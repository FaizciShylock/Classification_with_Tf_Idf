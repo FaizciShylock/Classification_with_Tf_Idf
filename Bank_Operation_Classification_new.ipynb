{
 "cells": [
  {
   "cell_type": "code",
   "execution_count": 1,
   "id": "progressive-manitoba",
   "metadata": {},
   "outputs": [],
   "source": [
    "import nltk\n",
    "import numpy as np\n",
    "from nltk.tokenize import sent_tokenize, word_tokenize\n",
    "import openpyxl as xl\n",
    "from snowballstemmer import TurkishStemmer\n",
    "import random\n",
    "import matplotlib.pyplot as plt\n",
    "from nltk.classify.scikitlearn import SklearnClassifier\n",
    "from sklearn.naive_bayes import MultinomialNB, GaussianNB, BernoulliNB\n",
    "from sklearn.linear_model import LogisticRegression, SGDClassifier\n",
    "from sklearn.svm import SVC, LinearSVC, NuSVC"
   ]
  },
  {
   "cell_type": "code",
   "execution_count": 2,
   "id": "associate-departure",
   "metadata": {},
   "outputs": [
    {
     "name": "stdout",
     "output_type": "stream",
     "text": [
      "raw text <class 'str'>\n"
     ]
    }
   ],
   "source": [
    "# To open the workbook  \n",
    "# workbook object is created \n",
    "wb_obj = xl.load_workbook(\"bank_data.xlsx\")\n",
    "\n",
    "# Get workbook active sheet object \n",
    "# from the active attribute \n",
    "sheet_obj = wb_obj.active \n",
    "\n",
    "# Cell objects also have a row, column,  \n",
    "# and coordinate attributes that provide \n",
    "# location information for the cell. \n",
    "\n",
    "# Note: The first row or  \n",
    "# column integer is 1, not 0.\n",
    "\n",
    "# Cell object is created by using  \n",
    "# sheet object's cell() method. \n",
    "cell_obj = sheet_obj.cell(row = 1, column = 1) \n",
    "\n",
    "# Print value of cell object  \n",
    "# using the value attribute \n",
    "print(cell_obj.value, type(cell_obj.value))"
   ]
  },
  {
   "cell_type": "code",
   "execution_count": 3,
   "id": "average-horror",
   "metadata": {},
   "outputs": [
    {
     "name": "stdout",
     "output_type": "stream",
     "text": [
      "4757\n"
     ]
    }
   ],
   "source": [
    "tot_row = sheet_obj.max_row #the total number of rows, including the first line\n",
    "tot_col = sheet_obj.max_column #the total number of col\n",
    "\n",
    "print(tot_row)"
   ]
  },
  {
   "cell_type": "code",
   "execution_count": 4,
   "id": "double-tablet",
   "metadata": {},
   "outputs": [],
   "source": [
    "documents = []\n",
    "options = []\n",
    "for i in range(2, tot_row): \n",
    "    cell_obj_statement = sheet_obj.cell(row = i, column = 2) \n",
    "    cell_obj_intent = sheet_obj.cell(row = i, column = 3)\n",
    "    documents.append(cell_obj_statement.value.lower())\n",
    "    options.append(cell_obj_intent.value)"
   ]
  },
  {
   "cell_type": "code",
   "execution_count": 5,
   "id": "demographic-essex",
   "metadata": {},
   "outputs": [],
   "source": [
    "documents\n",
    "options\n",
    "\n",
    "# option_set = set(options)    \n",
    "\n",
    "# option_dict = {}\n",
    "\n",
    "# num_opt = 0\n",
    "# for opt in option_set:\n",
    "#     option_dict[opt] = num_opt\n",
    "#     num_opt = num_opt + 1 \n",
    "\n",
    "# y_opt = []    \n",
    "# for opt in options:\n",
    "#     y_opt.append(option_dict[opt])\n",
    "\n",
    "y = np.array(options)"
   ]
  },
  {
   "cell_type": "code",
   "execution_count": 6,
   "id": "everyday-interval",
   "metadata": {},
   "outputs": [],
   "source": [
    "from sklearn.feature_extraction import DictVectorizer\n",
    "vec = DictVectorizer()\n",
    "from sklearn.feature_extraction.text import CountVectorizer\n",
    "from sklearn.feature_extraction.text import TfidfVectorizer\n",
    "\n",
    "vectorizer = TfidfVectorizer(max_df = 0.85) # by setting max_df to an integer, a word which has a df larger than 0.85 will be treated as a stop-word\n",
    "bigram_vectorizer = CountVectorizer(ngram_range=(1,2),\n",
    "                                   token_pattern=r'\\b\\w+\\b', min_df=1)\n"
   ]
  },
  {
   "cell_type": "code",
   "execution_count": 7,
   "id": "verified-stockholm",
   "metadata": {},
   "outputs": [
    {
     "name": "stdout",
     "output_type": "stream",
     "text": [
      "[[0. 0. 0. ... 0. 0. 0.]\n",
      " [0. 0. 0. ... 0. 0. 0.]\n",
      " [0. 0. 0. ... 0. 0. 0.]\n",
      " ...\n",
      " [0. 0. 0. ... 0. 0. 0.]\n",
      " [0. 0. 0. ... 0. 0. 0.]\n",
      " [0. 0. 0. ... 0. 0. 0.]]\n"
     ]
    }
   ],
   "source": [
    "X_tf = vectorizer.fit_transform(documents).toarray()\n",
    "X_2 = bigram_vectorizer.fit_transform(documents).toarray()\n",
    "\n",
    "print(X_tf)"
   ]
  },
  {
   "cell_type": "code",
   "execution_count": 8,
   "id": "meaningful-halloween",
   "metadata": {},
   "outputs": [
    {
     "data": {
      "text/plain": [
       "79"
      ]
     },
     "execution_count": 8,
     "metadata": {},
     "output_type": "execute_result"
    }
   ],
   "source": [
    "feature_index = bigram_vectorizer.vocabulary_.get('para çekmek')\n",
    "np.sum(X_2[:, feature_index])"
   ]
  },
  {
   "cell_type": "code",
   "execution_count": 9,
   "id": "about-species",
   "metadata": {},
   "outputs": [],
   "source": [
    "from sklearn.model_selection import train_test_split\n",
    "from sklearn.feature_extraction.text import TfidfTransformer\n",
    "transformer = TfidfTransformer(smooth_idf=True)\n",
    "\n",
    "#Below part is vectorized by bigram_vectorizer\n",
    "X = transformer.fit_transform(X_2).toarray()\n",
    "X_train, X_test, y_train, y_test = train_test_split(X, y, test_size=0.2, random_state=42)\n",
    "\n",
    "#Below part is vectorized and transformed by TfidfVectorizer\n",
    "X_tf_train, X_tf_test, y_tf_train, y_tf_test = train_test_split(X_tf, y, test_size = 0.2, random_state=42)"
   ]
  },
  {
   "cell_type": "code",
   "execution_count": 10,
   "id": "subject-facing",
   "metadata": {},
   "outputs": [
    {
     "data": {
      "text/plain": [
       "((3804, 6871), (3804,))"
      ]
     },
     "execution_count": 10,
     "metadata": {},
     "output_type": "execute_result"
    }
   ],
   "source": [
    "X_train.shape, y_train.shape"
   ]
  },
  {
   "cell_type": "code",
   "execution_count": 11,
   "id": "every-donna",
   "metadata": {},
   "outputs": [
    {
     "data": {
      "text/plain": [
       "((951, 6871), (951,))"
      ]
     },
     "execution_count": 11,
     "metadata": {},
     "output_type": "execute_result"
    }
   ],
   "source": [
    "X_test.shape, y_test.shape"
   ]
  },
  {
   "cell_type": "code",
   "execution_count": 12,
   "id": "paperback-pension",
   "metadata": {},
   "outputs": [
    {
     "data": {
      "text/plain": [
       "((3804, 934), (3804,))"
      ]
     },
     "execution_count": 12,
     "metadata": {},
     "output_type": "execute_result"
    }
   ],
   "source": [
    "X_tf_train.shape, y_tf_train.shape"
   ]
  },
  {
   "cell_type": "code",
   "execution_count": 13,
   "id": "prescribed-bottle",
   "metadata": {},
   "outputs": [
    {
     "data": {
      "text/plain": [
       "((951, 934), (951,))"
      ]
     },
     "execution_count": 13,
     "metadata": {},
     "output_type": "execute_result"
    }
   ],
   "source": [
    "X_tf_test.shape, y_tf_test.shape"
   ]
  },
  {
   "cell_type": "code",
   "execution_count": 14,
   "id": "auburn-sarah",
   "metadata": {},
   "outputs": [],
   "source": [
    "from sklearn import svm\n",
    "\n",
    "clf = svm.SVC(kernel='linear', C=1).fit(X_train, y_train)\n",
    "clf_tf = svm.SVC(kernel='linear', C=1).fit(X_tf_train, y_tf_train)"
   ]
  },
  {
   "cell_type": "code",
   "execution_count": 15,
   "id": "guided-arrival",
   "metadata": {},
   "outputs": [
    {
     "name": "stdout",
     "output_type": "stream",
     "text": [
      "Score of bi: 0.9032597266035752\n",
      "Score of tf: 0.9263932702418507\n"
     ]
    }
   ],
   "source": [
    "score_bi = clf.score(X_test, y_test)\n",
    "score_tf = clf_tf.score(X_tf_test,y_tf_test)\n",
    "\n",
    "print(\"Score of bi:\",score_bi)\n",
    "print(\"Score of tf:\",score_tf)"
   ]
  },
  {
   "cell_type": "code",
   "execution_count": 16,
   "id": "horizontal-footwear",
   "metadata": {},
   "outputs": [],
   "source": [
    "#when cv argument is an integer cross_val_score uses the KFold or StratifiedKFold STRATEGİES BY DEFAULT"
   ]
  },
  {
   "cell_type": "code",
   "execution_count": 17,
   "id": "color-trace",
   "metadata": {},
   "outputs": [],
   "source": [
    "#It is also possible to use other cross validation strategies by passing a cross validation iterator"
   ]
  },
  {
   "cell_type": "code",
   "execution_count": 18,
   "id": "given-choir",
   "metadata": {},
   "outputs": [],
   "source": [
    "#If the number of features is much greater than the number of samples, avoid over-fitting in choosing Kernel functions and regularization term is crucial."
   ]
  },
  {
   "cell_type": "code",
   "execution_count": 19,
   "id": "clear-mobility",
   "metadata": {},
   "outputs": [],
   "source": [
    "#SVC, NuSVC and LinearSVC are classes capable of performing binary and multi-class classification on a dataset."
   ]
  },
  {
   "cell_type": "code",
   "execution_count": 20,
   "id": "hungarian-classics",
   "metadata": {},
   "outputs": [],
   "source": [
    "def pred_sent(text, n_gram):\n",
    "    word_l = word_tokenize(text)\n",
    "    \n",
    "    if n_gram == 2:\n",
    "        \n",
    "        for i in range(1,len(word_l)):\n",
    "            two_words = \"\"\n",
    "            two_words = word_l[i-1].lower() + \" \" + word_l[i].lower()\n",
    "            word_l.append(two_words)\n",
    "\n",
    "        tot_features = len(bigram_vectorizer.get_feature_names())\n",
    "        text_arr = np.zeros(tot_features)\n",
    "        inx = 0\n",
    "        \n",
    "        for w in bigram_vectorizer.get_feature_names():\n",
    "            counts = 0\n",
    "            for w2 in word_l:\n",
    "                if w == w2:\n",
    "                    counts = counts +1\n",
    "            text_arr[inx] = counts\n",
    "            inx = inx +1\n",
    "        \n",
    "        x_arr = np.array([text_arr])\n",
    "        x_pred = transformer.fit_transform(x_arr).toarray()\n",
    "        \n",
    "        return clf.predict(x_pred)\n",
    "    \n",
    "    tot_features = len(vectorizer.get_feature_names())\n",
    "    text_arr = np.zeros(tot_features)\n",
    "    inx = 0\n",
    "    \n",
    "    for w in vectorizer.get_feature_names():\n",
    "        counts = 0\n",
    "        for w2 in word_l:\n",
    "            if w == w2:\n",
    "                counts = counts +1\n",
    "        text_arr[inx] = counts\n",
    "        inx = inx +1\n",
    "        \n",
    "    x_arr = np.array([text_arr])\n",
    "    x_pred = transformer.fit_transform(x_arr).toarray()\n",
    "    return clf_tf.predict(x_pred)"
   ]
  },
  {
   "cell_type": "code",
   "execution_count": 21,
   "id": "engaging-writing",
   "metadata": {},
   "outputs": [
    {
     "name": "stdout",
     "output_type": "stream",
     "text": [
      "The operation: ['currency']\n",
      "The operation: ['currency']\n",
      "The operation: ['credit_card']\n",
      "The operation: ['credit']\n",
      "The operation: ['withdraw']\n",
      "The operation: ['money_transfer']\n",
      "The operation: ['money_transfer']\n",
      "The operation: ['credit']\n",
      "The operation: ['credit']\n",
      "The operation: ['credit_card']\n",
      "The operation: ['no_branches']\n",
      "The operation: ['lower_limit']\n",
      "The operation: ['account_border']\n",
      "The operation: ['missing_balance']\n",
      "The operation: ['overdraft']\n",
      "\n",
      "\n",
      "The operation: ['currency']\n",
      "The operation: ['currency']\n",
      "The operation: ['credit_card']\n",
      "The operation: ['credit']\n",
      "The operation: ['withdraw']\n",
      "The operation: ['money_transfer']\n",
      "The operation: ['irr']\n",
      "The operation: ['credit']\n",
      "The operation: ['credit']\n",
      "The operation: ['credit_card']\n",
      "The operation: ['no_branches']\n",
      "The operation: ['lower_limit']\n",
      "The operation: ['interest_earning_time']\n",
      "The operation: ['missing_balance']\n",
      "The operation: ['overdraft']\n"
     ]
    }
   ],
   "source": [
    "print(\"The operation:\",pred_sent('döviz hesabı açmak istemek',2))\n",
    "print(\"The operation:\",pred_sent('döviz hesabı açmak istiyorum',2))\n",
    "print(\"The operation:\",pred_sent('kredi kart açmak istiyorum',2))\n",
    "print(\"The operation:\",pred_sent('kredi almak istiyorum',2))\n",
    "print(\"The operation:\",pred_sent('para çekmek istiyorum',2))\n",
    "print(\"The operation:\",pred_sent('havale yapmak istiyorum',2))\n",
    "print(\"The operation:\",pred_sent('EFT yapmak istiyorum',2))\n",
    "print(\"The operation:\",pred_sent('kredi çekmek istiyorum',2))\n",
    "print(\"The operation:\",pred_sent('kredi kartı almak istiyorum',2))\n",
    "print(\"The operation:\",pred_sent('kredi kart işlemleri',2))\n",
    "print(\"The operation:\",pred_sent('en yakındaki şube nerede',2))\n",
    "print(\"The operation:\",pred_sent('Kredi alt limitim ne kadar',2))\n",
    "print(\"The operation:\",pred_sent('faiz oranı aynı olan hesap açmak istiyorum',2))\n",
    "print(\"The operation:\",pred_sent('bakiyem neden az',2))\n",
    "print(\"The operation:\",pred_sent('ek hesap açmak istiyorum',2))\n",
    "\n",
    "print('\\n')\n",
    "\n",
    "print(\"The operation:\",pred_sent('döviz hesabı açmak istemek',1))\n",
    "print(\"The operation:\",pred_sent('döviz hesabı açmak istiyorum',1))\n",
    "print(\"The operation:\",pred_sent('kredi kart açmak istiyorum',1))\n",
    "print(\"The operation:\",pred_sent('kredi almak istiyorum',1))\n",
    "print(\"The operation:\",pred_sent('para çekmek istiyorum',1))\n",
    "print(\"The operation:\",pred_sent('havale yapmak istiyorum',1))\n",
    "print(\"The operation:\",pred_sent('EFT yapmak istiyorum',1))\n",
    "print(\"The operation:\",pred_sent('kredi çekmek istiyorum',1))\n",
    "print(\"The operation:\",pred_sent('kredi kartı almak istiyorum',1))\n",
    "print(\"The operation:\",pred_sent('kredi kart işlemleri',1))\n",
    "print(\"The operation:\",pred_sent('en yakındaki şube nerede',1))\n",
    "print(\"The operation:\",pred_sent('Kredi alt limitim ne kadar',1))\n",
    "print(\"The operation:\",pred_sent('faiz oranı aynı olan hesap açmak istiyorum',1))\n",
    "print(\"The operation:\",pred_sent('bakiyem neden az',1))\n",
    "print(\"The operation:\",pred_sent('ek hesap açmak istiyorum',1))\n",
    "\n"
   ]
  },
  {
   "cell_type": "code",
   "execution_count": 22,
   "id": "limited-cycle",
   "metadata": {},
   "outputs": [],
   "source": [
    "y_predict = clf.predict(X_test)"
   ]
  },
  {
   "cell_type": "code",
   "execution_count": 23,
   "id": "designing-cartoon",
   "metadata": {},
   "outputs": [
    {
     "name": "stdout",
     "output_type": "stream",
     "text": [
      "Accuracy score of SVC when corpus is vectorized with bigram_vectorizer: 0.9032597266035752\n"
     ]
    }
   ],
   "source": [
    "from sklearn.metrics import accuracy_score\n",
    "print(\"Accuracy score of SVC when corpus is vectorized with bigram_vectorizer:\",accuracy_score(y_test,y_predict))"
   ]
  },
  {
   "cell_type": "code",
   "execution_count": 24,
   "id": "wrong-investment",
   "metadata": {},
   "outputs": [],
   "source": [
    "y_tf_predict = clf_tf.predict(X_tf_test)"
   ]
  },
  {
   "cell_type": "code",
   "execution_count": 25,
   "id": "brief-auditor",
   "metadata": {},
   "outputs": [
    {
     "name": "stdout",
     "output_type": "stream",
     "text": [
      "Accuracy score of SVC when corpus is vectorized with tf-idf vectorizer: 0.9263932702418507\n"
     ]
    }
   ],
   "source": [
    "from sklearn.metrics import accuracy_score\n",
    "print(\"Accuracy score of SVC when corpus is vectorized with tf-idf vectorizer:\",accuracy_score(y_tf_predict,y_tf_test))"
   ]
  },
  {
   "cell_type": "code",
   "execution_count": 26,
   "id": "broken-polyester",
   "metadata": {},
   "outputs": [
    {
     "name": "stdout",
     "output_type": "stream",
     "text": [
      "f1_score of SVC when corpus is vectorized with bigram_vectorizer: 0.901043377241685\n",
      "f1_score SVC when corpus is vectorized with tf-idf vectorizer: 0.9274615115313032\n"
     ]
    }
   ],
   "source": [
    "from sklearn.metrics import average_precision_score, f1_score, precision_score, recall_score\n",
    "\n",
    "print(\"f1_score of SVC when corpus is vectorized with bigram_vectorizer:\",f1_score(y_test,y_predict,average='weighted'))\n",
    "print(\"f1_score SVC when corpus is vectorized with tf-idf vectorizer:\",f1_score(y_tf_predict,y_tf_test,average='weighted'))"
   ]
  },
  {
   "cell_type": "code",
   "execution_count": 27,
   "id": "compliant-induction",
   "metadata": {},
   "outputs": [
    {
     "name": "stdout",
     "output_type": "stream",
     "text": [
      "f1_score of SVC when corpus is vectorized with bigram_vectorizer: 0.8725742577200146\n",
      "f1_score SVC when corpus is vectorized with tf-idf vectorizer: 0.8960114128555694\n"
     ]
    }
   ],
   "source": [
    "print(\"f1_score of SVC when corpus is vectorized with bigram_vectorizer:\",f1_score(y_test,y_predict,average='macro'))\n",
    "print(\"f1_score SVC when corpus is vectorized with tf-idf vectorizer:\",f1_score(y_tf_predict,y_tf_test,average='macro'))"
   ]
  },
  {
   "cell_type": "code",
   "execution_count": 28,
   "id": "unnecessary-malawi",
   "metadata": {},
   "outputs": [
    {
     "name": "stdout",
     "output_type": "stream",
     "text": [
      "f1_score of SVC when corpus is vectorized with bigram_vectorizer: 0.9032597266035752\n",
      "f1_score SVC when corpus is vectorized with tf-idf vectorizer: 0.9263932702418507\n"
     ]
    }
   ],
   "source": [
    "print(\"f1_score of SVC when corpus is vectorized with bigram_vectorizer:\",f1_score(y_test,y_predict,average='micro'))\n",
    "print(\"f1_score SVC when corpus is vectorized with tf-idf vectorizer:\",f1_score(y_tf_predict,y_tf_test,average='micro'))"
   ]
  },
  {
   "cell_type": "code",
   "execution_count": 29,
   "id": "commercial-effort",
   "metadata": {},
   "outputs": [],
   "source": [
    "#since when the vectorization done by the tf-idf, we will move on with this"
   ]
  },
  {
   "cell_type": "code",
   "execution_count": 30,
   "id": "tested-journal",
   "metadata": {},
   "outputs": [],
   "source": [
    "#Now it is time for using other classifiers"
   ]
  },
  {
   "cell_type": "code",
   "execution_count": 31,
   "id": "familiar-motor",
   "metadata": {},
   "outputs": [],
   "source": [
    "# MultinomialNB, GaussianNB, BernoulliNB\n",
    "# LogisticRegression, SGDClassifier\n",
    "# SVC, LinearSVC, NuSVC\n",
    "clf_multinomial = MultinomialNB().fit(X_tf_train,y_tf_train)\n",
    "clf_gaussian = GaussianNB().fit(X_tf_train,y_tf_train)\n",
    "clf_bernoulli = BernoulliNB().fit(X_tf_train,y_tf_train)\n",
    "\n",
    "clf_logreg = LogisticRegression().fit(X_tf_train,y_tf_train)\n",
    "clf_SGD = SGDClassifier().fit(X_tf_train,y_tf_train)\n",
    "\n",
    "clf_linear_SVc = LinearSVC().fit(X_tf_train,y_tf_train)"
   ]
  },
  {
   "cell_type": "code",
   "execution_count": 32,
   "id": "united-visibility",
   "metadata": {},
   "outputs": [
    {
     "name": "stdout",
     "output_type": "stream",
     "text": [
      "Accuracy score of MultinomialNB Classifier: 0.6088328075709779\n",
      "Accuracy score of GaussianNB Classifier: 0.6929547844374343\n",
      "Accuracy score of BernoulliNB Classifier: 0.5131440588853838\n",
      "Accuracy score of LogisticRegression Classifier: 0.8338590956887487\n",
      "Accuracy score of SGDClassifier Classifier: 0.9211356466876972\n",
      "Accuracy score of LinearSVC Classifier: 0.9274447949526814\n"
     ]
    }
   ],
   "source": [
    "print(\"Accuracy score of MultinomialNB Classifier:\",accuracy_score(clf_multinomial.predict(X_tf_test),y_tf_test))\n",
    "print(\"Accuracy score of GaussianNB Classifier:\",accuracy_score(clf_gaussian.predict(X_tf_test),y_tf_test))\n",
    "print(\"Accuracy score of BernoulliNB Classifier:\",accuracy_score(clf_bernoulli.predict(X_tf_test),y_tf_test))\n",
    "print(\"Accuracy score of LogisticRegression Classifier:\",accuracy_score(clf_logreg.predict(X_tf_test),y_tf_test))\n",
    "print(\"Accuracy score of SGDClassifier Classifier:\",accuracy_score(clf_SGD.predict(X_tf_test),y_tf_test))\n",
    "print(\"Accuracy score of LinearSVC Classifier:\",accuracy_score(clf_linear_SVc.predict(X_tf_test),y_tf_test))"
   ]
  },
  {
   "cell_type": "code",
   "execution_count": 33,
   "id": "theoretical-advocacy",
   "metadata": {},
   "outputs": [
    {
     "name": "stdout",
     "output_type": "stream",
     "text": [
      "f1_score of MultinomialNB Classifier: 0.6607960887101698\n",
      "f1_score of GaussianNB Classifier: 0.7001230371836319\n",
      "f1_score of BernoulliNB Classifier: 0.5996658108704402\n",
      "f1_score of LogisticRegression Classifier: 0.844433856622717\n",
      "f1_score of SGDClassifier Classifier: 0.9222909683651384\n",
      "f1_score of LinearSVC Classifier: 0.9283745759140654\n"
     ]
    }
   ],
   "source": [
    "print(\"f1_score of MultinomialNB Classifier:\",f1_score(clf_multinomial.predict(X_tf_test),y_tf_test,average='weighted'))\n",
    "print(\"f1_score of GaussianNB Classifier:\",f1_score(clf_gaussian.predict(X_tf_test),y_tf_test,average='weighted'))\n",
    "print(\"f1_score of BernoulliNB Classifier:\",f1_score(clf_bernoulli.predict(X_tf_test),y_tf_test,average='weighted'))\n",
    "print(\"f1_score of LogisticRegression Classifier:\",f1_score(clf_logreg.predict(X_tf_test),y_tf_test,average='weighted'))\n",
    "print(\"f1_score of SGDClassifier Classifier:\",f1_score(clf_SGD.predict(X_tf_test),y_tf_test,average='weighted'))\n",
    "print(\"f1_score of LinearSVC Classifier:\",f1_score(clf_linear_SVc.predict(X_tf_test),y_tf_test,average='weighted'))"
   ]
  },
  {
   "cell_type": "code",
   "execution_count": 34,
   "id": "composite-ambassador",
   "metadata": {},
   "outputs": [
    {
     "name": "stdout",
     "output_type": "stream",
     "text": [
      "precision_score of MultinomialNB Classifier: 0.8681366849512897\n",
      "precision_score of GaussianNB Classifier: 0.7449690042377042\n",
      "precision_score of BernoulliNB Classifier: 0.854175381305869\n",
      "precision_score of LogisticRegression Classifier: 0.8808412400630108\n",
      "precision_score of SGDClassifier Classifier: 0.931409406138969\n",
      "precision_score of LinearSVC Classifier: 0.9353426800082659\n"
     ]
    }
   ],
   "source": [
    "print(\"precision_score of MultinomialNB Classifier:\",precision_score(clf_multinomial.predict(X_tf_test),y_tf_test,average='weighted'))\n",
    "print(\"precision_score of GaussianNB Classifier:\",precision_score(clf_gaussian.predict(X_tf_test),y_tf_test,average='weighted'))\n",
    "print(\"precision_score of BernoulliNB Classifier:\",precision_score(clf_bernoulli.predict(X_tf_test),y_tf_test,average='weighted'))\n",
    "print(\"precision_score of LogisticRegression Classifier:\",precision_score(clf_logreg.predict(X_tf_test),y_tf_test,average='weighted'))\n",
    "print(\"precision_score of SGDClassifier Classifier:\",precision_score(clf_SGD.predict(X_tf_test),y_tf_test,average='weighted'))\n",
    "print(\"precision_score of LinearSVC Classifier:\",precision_score(clf_linear_SVc.predict(X_tf_test),y_tf_test,average='weighted'))"
   ]
  },
  {
   "cell_type": "code",
   "execution_count": 35,
   "id": "viral-indicator",
   "metadata": {},
   "outputs": [
    {
     "name": "stdout",
     "output_type": "stream",
     "text": [
      "recall_score of MultinomialNB Classifier: 0.6088328075709779\n",
      "recall_score of GaussianNB Classifier: 0.6929547844374343\n",
      "recall_score of BernoulliNB Classifier: 0.5131440588853838\n",
      "recall_score of LogisticRegression Classifier: 0.8338590956887487\n",
      "recall_score of SGDClassifier Classifier: 0.9211356466876972\n",
      "recall_score of LinearSVC Classifier: 0.9274447949526814\n"
     ]
    }
   ],
   "source": [
    "print(\"recall_score of MultinomialNB Classifier:\",recall_score(clf_multinomial.predict(X_tf_test),y_tf_test,average='weighted',zero_division=0))\n",
    "print(\"recall_score of GaussianNB Classifier:\",recall_score(clf_gaussian.predict(X_tf_test),y_tf_test,average='weighted',zero_division=0))\n",
    "print(\"recall_score of BernoulliNB Classifier:\",recall_score(clf_bernoulli.predict(X_tf_test),y_tf_test,average='weighted',zero_division=0))\n",
    "print(\"recall_score of LogisticRegression Classifier:\",recall_score(clf_logreg.predict(X_tf_test),y_tf_test,average='weighted',zero_division=0))\n",
    "print(\"recall_score of SGDClassifier Classifier:\",recall_score(clf_SGD.predict(X_tf_test),y_tf_test,average='weighted',zero_division=0))\n",
    "print(\"recall_score of LinearSVC Classifier:\",recall_score(clf_linear_SVc.predict(X_tf_test),y_tf_test,average='weighted',zero_division=0))"
   ]
  },
  {
   "cell_type": "code",
   "execution_count": 36,
   "id": "annoying-story",
   "metadata": {},
   "outputs": [],
   "source": [
    "#When all things are considered the classifier which gives the best accuracy and precision is LinearSVC"
   ]
  },
  {
   "cell_type": "code",
   "execution_count": 37,
   "id": "thick-budapest",
   "metadata": {},
   "outputs": [],
   "source": [
    "def pred_sent(text, n_gram):\n",
    "    word_l = word_tokenize(text.lower())\n",
    "    \n",
    "    if n_gram == 2:\n",
    "        \n",
    "        for i in range(1,len(word_l)):\n",
    "            two_words = \"\"\n",
    "            two_words = word_l[i-1]+ \" \" + word_l[i]\n",
    "\n",
    "        tot_features = len(bigram_vectorizer.get_feature_names())\n",
    "        text_arr = np.zeros(tot_features)\n",
    "        inx = 0\n",
    "        \n",
    "        for w in bigram_vectorizer.get_feature_names():\n",
    "            counts = 0\n",
    "            for w2 in word_l:\n",
    "                if w == w2:\n",
    "                    counts = counts +1\n",
    "            text_arr[inx] = counts\n",
    "            inx = inx +1\n",
    "        \n",
    "        x_arr = np.array([text_arr])\n",
    "        x_pred = transformer.fit_transform(x_arr).toarray()\n",
    "        \n",
    "        return clf_linear_SVc.predict(x_pred)\n",
    "    \n",
    "    tot_features = len(vectorizer.get_feature_names())\n",
    "    text_arr = np.zeros(tot_features)\n",
    "    inx = 0\n",
    "    \n",
    "    for w in vectorizer.get_feature_names():\n",
    "        counts = 0\n",
    "        for w2 in word_l:\n",
    "            if w == w2:\n",
    "                counts = counts +1\n",
    "        text_arr[inx] = counts\n",
    "        inx = inx +1\n",
    "        \n",
    "    x_arr = np.array([text_arr])\n",
    "    x_pred = transformer.fit_transform(x_arr).toarray()\n",
    "    return clf_linear_SVc.predict(x_pred)"
   ]
  },
  {
   "cell_type": "code",
   "execution_count": 38,
   "id": "sound-maintenance",
   "metadata": {},
   "outputs": [
    {
     "name": "stdout",
     "output_type": "stream",
     "text": [
      "The operation: ['currency']\n",
      "The operation: ['currency']\n",
      "The operation: ['credit_card']\n",
      "The operation: ['credit']\n",
      "The operation: ['withdraw']\n",
      "The operation: ['money_transfer']\n",
      "The operation: ['money_transfer']\n",
      "The operation: ['credit']\n",
      "The operation: ['credit']\n",
      "The operation: ['credit_card']\n",
      "The operation: ['no_branches']\n",
      "The operation: ['lower_limit']\n",
      "The operation: ['interest_earning_time']\n",
      "The operation: ['missing_balance']\n",
      "The operation: ['overdraft']\n",
      "The operation: ['pay_into']\n"
     ]
    }
   ],
   "source": [
    "print(\"The operation:\",pred_sent('döviz hesabı açmak istemek',1))\n",
    "print(\"The operation:\",pred_sent('döviz hesabı açmak istiyorum',1))\n",
    "print(\"The operation:\",pred_sent('kredi kart açmak istiyorum',1))\n",
    "print(\"The operation:\",pred_sent('kredi almak istiyorum',1))\n",
    "print(\"The operation:\",pred_sent('para çekmek istiyorum',1))\n",
    "print(\"The operation:\",pred_sent('havale yapmak istiyorum',1))\n",
    "print(\"The operation:\",pred_sent('EFT yapmak istiyorum',1))\n",
    "print(\"The operation:\",pred_sent('kredi çekmek istiyorum',1))\n",
    "print(\"The operation:\",pred_sent('kredi kartı almak istiyorum',1))\n",
    "print(\"The operation:\",pred_sent('kredi kart işlemleri',1))\n",
    "print(\"The operation:\",pred_sent('en yakındaki şube nerede',1))\n",
    "print(\"The operation:\",pred_sent('Kredi alt limitim ne kadar',1))\n",
    "print(\"The operation:\",pred_sent('faiz oranı aynı olan hesap açmak istiyorum',1))\n",
    "print(\"The operation:\",pred_sent('bakiyem neden az',1))\n",
    "print(\"The operation:\",pred_sent('ek hesap açmak istiyorum',1))\n",
    "print(\"The operation:\",pred_sent('para yatırmak istemek',1))"
   ]
  },
  {
   "cell_type": "code",
   "execution_count": 39,
   "id": "optional-aspect",
   "metadata": {},
   "outputs": [],
   "source": [
    "#A last try for Linear SVC"
   ]
  },
  {
   "cell_type": "code",
   "execution_count": 40,
   "id": "violent-julian",
   "metadata": {},
   "outputs": [],
   "source": [
    "clf_linear_SVc = LinearSVC().fit(X_train,y_train)"
   ]
  },
  {
   "cell_type": "code",
   "execution_count": 41,
   "id": "anonymous-plant",
   "metadata": {},
   "outputs": [
    {
     "name": "stdout",
     "output_type": "stream",
     "text": [
      "Accuracy score of LinearSVC Classifier: 0.9348054679284963\n",
      "f1_score of LinearSVC Classifier: 0.9368938022667455\n"
     ]
    }
   ],
   "source": [
    "print(\"Accuracy score of LinearSVC Classifier:\",accuracy_score(clf_linear_SVc.predict(X_test),y_test))\n",
    "print(\"f1_score of LinearSVC Classifier:\",f1_score(clf_linear_SVc.predict(X_test),y_test,average='weighted'))"
   ]
  },
  {
   "cell_type": "code",
   "execution_count": 42,
   "id": "transsexual-division",
   "metadata": {},
   "outputs": [
    {
     "name": "stdout",
     "output_type": "stream",
     "text": [
      "The operation: ['currency']\n",
      "The operation: ['currency']\n",
      "The operation: ['credit']\n",
      "The operation: ['credit']\n",
      "The operation: ['withdraw']\n",
      "The operation: ['money_transfer']\n",
      "The operation: ['money_transfer']\n",
      "The operation: ['credit']\n",
      "The operation: ['credit']\n",
      "The operation: ['credit']\n",
      "The operation: ['no_branches']\n",
      "The operation: ['lower_limit']\n",
      "The operation: ['interest_earning_time']\n",
      "The operation: ['missing_balance']\n",
      "The operation: ['overdraft']\n",
      "The operation: ['pay_into']\n"
     ]
    }
   ],
   "source": [
    "print(\"The operation:\",pred_sent('döviz hesabı açmak istemek',2))\n",
    "print(\"The operation:\",pred_sent('döviz hesabı açmak istiyorum',2))\n",
    "print(\"The operation:\",pred_sent('kredi kart açmak istiyorum',2))\n",
    "print(\"The operation:\",pred_sent('kredi almak istiyorum',2))\n",
    "print(\"The operation:\",pred_sent('para çekmek istiyorum',2))\n",
    "print(\"The operation:\",pred_sent('havale yapmak istiyorum',2))\n",
    "print(\"The operation:\",pred_sent('EFT yapmak istiyorum',2))\n",
    "print(\"The operation:\",pred_sent('kredi çekmek istiyorum',2))\n",
    "print(\"The operation:\",pred_sent('kredi kartı almak istiyorum',2))\n",
    "print(\"The operation:\",pred_sent('kredi kart işlemleri',2))\n",
    "print(\"The operation:\",pred_sent('en yakındaki şube nerede',2))\n",
    "print(\"The operation:\",pred_sent('Kredi alt limit ne kadar',2))\n",
    "print(\"The operation:\",pred_sent('faiz oranı aynı olan hesap açmak istiyorum',2))\n",
    "print(\"The operation:\",pred_sent('bakiyem neden az',2))\n",
    "print(\"The operation:\",pred_sent('ek hesap açmak istiyorum',2))\n",
    "print(\"The operation:\",pred_sent('para yatırmak istemek',2))"
   ]
  },
  {
   "cell_type": "code",
   "execution_count": 43,
   "id": "spatial-failure",
   "metadata": {},
   "outputs": [
    {
     "name": "stdout",
     "output_type": "stream",
     "text": [
      "['pay_into']\n"
     ]
    }
   ],
   "source": [
    "print(pred_sent('para yatırmak istemek',2))"
   ]
  },
  {
   "cell_type": "code",
   "execution_count": 44,
   "id": "resistant-liabilities",
   "metadata": {},
   "outputs": [],
   "source": [
    "# https://scikit-learn.org/stable/auto_examples/text/plot_document_classification_20newsgroups.html#sphx-glr-auto-examples-text-plot-document-classification-20newsgroups-py"
   ]
  },
  {
   "cell_type": "code",
   "execution_count": 46,
   "id": "successful-wyoming",
   "metadata": {},
   "outputs": [],
   "source": [
    "import logging\n",
    "import sys\n",
    "from time import time\n",
    "from optparse import OptionParser"
   ]
  },
  {
   "cell_type": "code",
   "execution_count": 47,
   "id": "spoken-enough",
   "metadata": {},
   "outputs": [],
   "source": [
    "def benchmark(clf):\n",
    "    print('_' * 80)\n",
    "    print(\"Training: \")\n",
    "    print(clf)\n",
    "    t0 = time()\n",
    "    clf.fit(X_tf_train, y_tf_train)\n",
    "    train_time = time() - t0\n",
    "    print(\"train time: %0.3fs\" % train_time)\n",
    "\n",
    "    t0 = time()\n",
    "    pred = clf.predict(X_tf_test)\n",
    "    test_time = time() - t0\n",
    "    print(\"test time:  %0.3fs\" % test_time)\n",
    "\n",
    "    score = accuracy_score(y_tf_test, pred)\n",
    "    print(\"accuracy:   %0.3f\" % score)\n",
    "\n",
    "    print()\n",
    "    clf_descr = str(clf).split('(')[0]\n",
    "    return clf_descr, score, train_time, test_time"
   ]
  },
  {
   "cell_type": "code",
   "execution_count": 48,
   "id": "korean-briefs",
   "metadata": {},
   "outputs": [
    {
     "name": "stdout",
     "output_type": "stream",
     "text": [
      "================================================================================\n",
      "SVC\n",
      "________________________________________________________________________________\n",
      "Training: \n",
      "SVC(C=1, kernel='linear')\n",
      "train time: 8.905s\n",
      "test time:  3.005s\n",
      "accuracy:   0.926\n",
      "\n",
      "================================================================================\n",
      "Multinomial NB\n",
      "________________________________________________________________________________\n",
      "Training: \n",
      "MultinomialNB()\n",
      "train time: 0.050s\n",
      "test time:  0.003s\n",
      "accuracy:   0.609\n",
      "\n",
      "================================================================================\n",
      "Gaussian NB\n",
      "________________________________________________________________________________\n",
      "Training: \n",
      "GaussianNB()\n",
      "train time: 0.097s\n",
      "test time:  1.000s\n",
      "accuracy:   0.693\n",
      "\n",
      "================================================================================\n",
      "Bernoulli NB\n",
      "________________________________________________________________________________\n",
      "Training: \n",
      "BernoulliNB()\n",
      "train time: 0.092s\n",
      "test time:  0.018s\n",
      "accuracy:   0.513\n",
      "\n",
      "================================================================================\n",
      "Logistic Regression\n",
      "________________________________________________________________________________\n",
      "Training: \n",
      "LogisticRegression()\n",
      "train time: 3.734s\n",
      "test time:  0.005s\n",
      "accuracy:   0.834\n",
      "\n",
      "================================================================================\n",
      "SGD Classifier\n",
      "________________________________________________________________________________\n",
      "Training: \n",
      "SGDClassifier()\n",
      "train time: 6.273s\n",
      "test time:  0.013s\n",
      "accuracy:   0.916\n",
      "\n",
      "================================================================================\n",
      "Linear SVC\n",
      "________________________________________________________________________________\n",
      "Training: \n",
      "LinearSVC()\n",
      "train time: 0.252s\n",
      "test time:  0.009s\n",
      "accuracy:   0.927\n",
      "\n"
     ]
    }
   ],
   "source": [
    "# MultinomialNB, GaussianNB, BernoulliNB\n",
    "# LogisticRegression, SGDClassifier\n",
    "# SVC, LinearSVC, NuSVC\n",
    "\n",
    "results = []\n",
    "\n",
    "for clf, name in (\n",
    "        (svm.SVC(kernel='linear', C=1), \"SVC\"),\n",
    "        (MultinomialNB(), \"Multinomial NB\"),\n",
    "        (GaussianNB(),\"Gaussian NB\"),\n",
    "        (BernoulliNB(), \"Bernoulli NB\"),\n",
    "        (LogisticRegression(), \"Logistic Regression\"),\n",
    "        (SGDClassifier(), \"SGD Classifier\"),\n",
    "        (LinearSVC(), \"Linear SVC\")):\n",
    "    print('=' * 80)\n",
    "    print(name)\n",
    "    results.append(benchmark(clf))"
   ]
  },
  {
   "cell_type": "code",
   "execution_count": 49,
   "id": "forbidden-uniform",
   "metadata": {},
   "outputs": [
    {
     "data": {
      "image/png": "[encoded data removed]",
      "text/plain": [
       "<Figure size 864x576 with 1 Axes>"
      ]
     },
     "metadata": {
      "needs_background": "light"
     },
     "output_type": "display_data"
    }
   ],
   "source": [
    "indices = np.arange(len(results))\n",
    "\n",
    "results = [[x[i] for x in results] for i in range(4)]\n",
    "\n",
    "clf_names, score, training_time, test_time = results\n",
    "training_time = np.array(training_time) / np.max(training_time)\n",
    "test_time = np.array(test_time) / np.max(test_time)\n",
    "\n",
    "plt.figure(figsize=(12, 8))\n",
    "plt.title(\"Score\")\n",
    "plt.barh(indices, score, .2, label=\"score\", color='navy')\n",
    "plt.barh(indices + .3, training_time, .2, label=\"training time\",\n",
    "         color='c')\n",
    "plt.barh(indices + .6, test_time, .2, label=\"test time\", color='darkorange')\n",
    "plt.yticks(())\n",
    "plt.legend(loc='best')\n",
    "plt.subplots_adjust(left=.25)\n",
    "plt.subplots_adjust(top=.95)\n",
    "plt.subplots_adjust(bottom=.05)\n",
    "\n",
    "for i, c in zip(indices, clf_names):\n",
    "    plt.text(-.3, i, c)\n",
    "\n",
    "plt.show()"
   ]
  },
  {
   "cell_type": "code",
   "execution_count": null,
   "id": "atlantic-beverage",
   "metadata": {},
   "outputs": [],
   "source": []
  }
 ],
 "metadata": {
  "kernelspec": {
   "display_name": "Python 3",
   "language": "python",
   "name": "python3"
  },
  "language_info": {
   "codemirror_mode": {
    "name": "ipython",
    "version": 3
   },
   "file_extension": ".py",
   "mimetype": "text/x-python",
   "name": "python",
   "nbconvert_exporter": "python",
   "pygments_lexer": "ipython3",
   "version": "3.8.4"
  }
 },
 "nbformat": 4,
 "nbformat_minor": 5
}
